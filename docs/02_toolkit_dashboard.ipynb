{
 "cells": [
  {
   "cell_type": "markdown",
   "metadata": {},
   "source": "# Adaptive Cards Toolkit: 02 - Dashboard Example\n\nThis notebook demonstrates how to create dashboard-style cards with statistics and indicators. Please run 01_toolkit_common.ipynb first.",
   "outputs": []
  },
  {
   "cell_type": "markdown",
   "metadata": {},
   "source": "## Setup\n\nFirst, we need to import the common utilities defined in the toolkit_common notebook."
  },
  {
   "cell_type": "code",
   "metadata": {},
   "outputs": [],
   "source": "# First run the common utilities notebook\n%run 01_toolkit_common.ipynb\n\n# Ensure we have all the necessary imports\nimport sys\nimport os\n\n# Add the parent directory to the path so we can import the toolkit\nif not os.path.abspath('..') in sys.path:\n    sys.path.insert(0, os.path.abspath('..'))\n\n# Import ElementFactory directly to ensure it's available\nfrom src.adaptive_cards_toolkit.core.element_factory import ElementFactory\nfrom src.adaptive_cards_toolkit.core.layout_helper import LayoutHelper"
  },
  {
   "cell_type": "markdown",
   "metadata": {},
   "source": "## Create Statistic Containers\n\nLet's define a function to create statistic containers with optional trend indicators."
  },
  {
   "cell_type": "code",
   "execution_count": null,
   "metadata": {},
   "outputs": [],
   "source": "# Create a function to build statistic containers\ndef create_statistic_container(title, value, trend=None, trend_direction=None):\n    \"\"\"Create a container with a statistic and optional trend indicator.\n    \n    Args:\n        title: The title of the statistic\n        value: The value to display\n        trend: Optional trend percentage \n        trend_direction: Optional direction ('up' or 'down')\n        \n    Returns:\n        A container element with the statistic\n    \"\"\"\n    items = [\n        ElementFactory.create_text(title, is_subtle=True),\n        ElementFactory.create_heading(value, level=2)\n    ]\n    \n    if trend is not None and trend_direction is not None:\n        trend_color = \"good\" if trend_direction == \"up\" else \"attention\"\n        trend_text = f\"↑ {trend}%\" if trend_direction == \"up\" else f\"↓ {trend}%\"\n        items.append(ElementFactory.create_important_text(trend_text, color=trend_color))\n    \n    return LayoutHelper.create_container(items=items, style=\"emphasis\", spacing=\"medium\")"
  },
  {
   "cell_type": "markdown",
   "metadata": {},
   "source": "## Create Statistics\n\nNow let's create four statistics for our dashboard."
  },
  {
   "cell_type": "code",
   "metadata": {},
   "outputs": [],
   "source": "# Create four statistics for our dashboard\ntry:\n    # Create the statistics\n    stat1 = create_statistic_container(\"Revenue\", \"$1.25M\", \"12\", \"up\")\n    stat2 = create_statistic_container(\"New Users\", \"8,742\", \"8\", \"up\")\n    stat3 = create_statistic_container(\"Churn Rate\", \"2.1%\", \"0.5\", \"down\")\n    stat4 = create_statistic_container(\"Avg Session\", \"24m 36s\", \"3\", \"up\")\n    \n    print(\"Statistics created successfully!\")\n    print(\"Statistic type:\", type(stat1))\n    \nexcept Exception as e:\n    print(f\"Error creating statistics: {e}\")"
  },
  {
   "cell_type": "markdown",
   "metadata": {},
   "source": "## Arrange Statistics in Columns\n\nLet's arrange the statistics in a 2x2 grid using column layouts."
  },
  {
   "cell_type": "code",
   "execution_count": null,
   "metadata": {},
   "outputs": [],
   "source": "# Arrange statistics in two rows of two columns each\ntry:\n    # Try different approaches to arrange in columns\n    print(\"Creating equal columns with stats...\")\n    row1 = LayoutHelper.create_equal_columns([[stat1], [stat2]])\n    row2 = LayoutHelper.create_equal_columns([[stat3], [stat4]])\n    \n    print(\"Rows created successfully!\")\n    print(\"Row type:\", type(row1))\n    \n    # If available, show the structure\n    if hasattr(row1, 'to_dict'):\n        print(\"Row structure:\")\n        print(json.dumps(row1.to_dict(), indent=2))\n        \nexcept Exception as e:\n    print(f\"Error creating column layout: {e}\")\n    print(\"Trying alternative approach...\")\n    \n    try:\n        # Alternative approach\n        row1 = LayoutHelper.create_column_set([\n            ElementFactory.create_column(width=\"1\", items=[stat1]),\n            ElementFactory.create_column(width=\"1\", items=[stat2])\n        ])\n        row2 = LayoutHelper.create_column_set([\n            ElementFactory.create_column(width=\"1\", items=[stat3]),\n            ElementFactory.create_column(width=\"1\", items=[stat4])\n        ])\n        print(\"Alternative approach successful!\")\n    except Exception as e2:\n        print(f\"Alternative approach also failed: {e2}\")"
  },
  {
   "cell_type": "markdown",
   "metadata": {},
   "source": "## Create the Dashboard Card\n\nNow let's create the dashboard card and add our statistics to it."
  },
  {
   "cell_type": "code",
   "execution_count": null,
   "metadata": {},
   "outputs": [],
   "source": "# Create the dashboard card\ntry:\n    dashboard_card = builder.create_basic_card(\n        title=\"Q2 2024 Performance Dashboard\",\n        message=\"Key metrics for the second quarter of 2024.\"\n    )\n    \n    print(\"Dashboard card created!\")\n    print(\"Card type:\", type(dashboard_card))\n    \n    # Show initial card structure\n    if hasattr(dashboard_card, 'to_dict'):\n        print(\"Initial card structure:\")\n        initial_structure = dashboard_card.to_dict()\n        print(json.dumps(initial_structure, indent=2))\n    \n    # Try to add our statistics rows\n    print(\"\\nAttempting to add rows to the card...\")\n    \n    # Try different approaches based on what we find\n    if hasattr(dashboard_card, 'add'):\n        print(\"Using 'add' method...\")\n        dashboard_card.add(row1)\n        dashboard_card.add(row2)\n    elif hasattr(dashboard_card, 'add_item'):\n        print(\"Using 'add_item' method...\")\n        dashboard_card.add_item(row1)\n        dashboard_card.add_item(row2)\n    elif hasattr(dashboard_card, 'body') and hasattr(dashboard_card.body, 'append'):\n        print(\"Appending to 'body' attribute...\")\n        dashboard_card.body.append(row1)\n        dashboard_card.body.append(row2)\n    elif hasattr(dashboard_card, 'to_dict'):\n        print(\"Modifying dictionary structure...\")\n        card_dict = dashboard_card.to_dict()\n        \n        if 'body' in card_dict and isinstance(card_dict['body'], list):\n            row1_dict = row1.to_dict() if hasattr(row1, 'to_dict') else row1\n            row2_dict = row2.to_dict() if hasattr(row2, 'to_dict') else row2\n            \n            card_dict['body'].append(row1_dict)\n            card_dict['body'].append(row2_dict)\n    else:\n        print(\"Could not find a way to add rows to the card.\")\n    \n    # Display the final card\n    display_card(dashboard_card, \"Dashboard with Statistics\")\n    \nexcept Exception as e:\n    print(f\"Error creating dashboard: {e}\")"
  }
 ],
 "metadata": {
  "kernelspec": {
   "display_name": "Python 3",
   "language": "python",
   "name": "python3"
  },
  "language_info": {
   "codemirror_mode": {
    "name": "ipython",
    "version": 3
   },
   "file_extension": ".py",
   "mimetype": "text/x-python",
   "name": "python",
   "nbconvert_exporter": "python",
   "pygments_lexer": "ipython3",
   "version": "3.9.0"
  }
 },
 "nbformat": 4,
 "nbformat_minor": 4
}