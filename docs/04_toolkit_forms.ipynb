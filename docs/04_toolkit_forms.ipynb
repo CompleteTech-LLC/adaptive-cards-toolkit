{
 "cells": [
  {
   "cell_type": "markdown",
   "metadata": {},
   "source": [
    "# Adaptive Cards Toolkit: 04 - Form Creation\n",
    "\n",
    "This notebook demonstrates how to create interactive form cards with various input types. Please run 01_toolkit_common.ipynb first."
   ]
  },
  {
   "cell_type": "markdown",
   "metadata": {},
   "source": [
    "## Setup\n",
    "\n",
    "First, we need to import the common utilities defined in the toolkit_common notebook."
   ]
  },
  {
   "cell_type": "code",
   "execution_count": null,
   "metadata": {},
   "outputs": [],
   "source": [
    "# First run the common utilities notebook\n",
    "%run 01_toolkit_common.ipynb\n",
    "\n",
    "# Ensure we have all the necessary imports\n",
    "import sys\n",
    "import os\n",
    "\n",
    "# Add the parent directory to the path so we can import the toolkit\n",
    "if not os.path.abspath('..') in sys.path:\n",
    "    sys.path.insert(0, os.path.abspath('..'))\n",
    "\n",
    "# Import necessary components\n",
    "from src.adaptive_cards_toolkit.core.element_factory import ElementFactory\n",
    "from src.adaptive_cards_toolkit.core.layout_helper import LayoutHelper\n",
    "from adaptive_cards.inputs import InputChoice"
   ]
  },
  {
   "cell_type": "markdown",
   "metadata": {},
   "source": [
    "## Create Text Input Elements\n",
    "\n",
    "Let's start by creating different types of text input elements."
   ]
  },
  {
   "cell_type": "code",
   "execution_count": null,
   "metadata": {},
   "outputs": [],
   "source": [
    "# Create various text input elements\n",
    "try:\n",
    "    # Simple text input\n",
    "    name_input = ElementFactory.create_text_input(\n",
    "        id=\"name\",\n",
    "        placeholder=\"Enter your full name\",\n",
    "        is_required=True\n",
    "    )\n",
    "    \n",
    "    # Email input\n",
    "    email_input = ElementFactory.create_text_input(\n",
    "        id=\"email\",\n",
    "        placeholder=\"Enter your email address\",\n",
    "        is_required=True\n",
    "    )\n",
    "    \n",
    "    # Multi-line text input (comments)\n",
    "    comments_input = ElementFactory.create_text_input(\n",
    "        id=\"comments\",\n",
    "        placeholder=\"Please provide any additional comments or feedback\",\n",
    "        is_required=False,\n",
    "        max_length=500\n",
    "    )\n",
    "    \n",
    "    print(\"Text inputs created successfully!\")\n",
    "    \n",
    "except Exception as e:\n",
    "    print(f\"Error creating text inputs: {e}\")"
   ]
  },
  {
   "cell_type": "markdown",
   "metadata": {},
   "source": [
    "## Create Choice Inputs\n",
    "\n",
    "Now let's create choice inputs for selecting options."
   ]
  },
  {
   "cell_type": "code",
   "execution_count": null,
   "metadata": {},
   "outputs": [],
   "source": [
    "# Create choice inputs\n",
    "try:\n",
    "    # Single-select dropdown\n",
    "    department_choices = [\n",
    "        InputChoice(title=\"Sales\", value=\"sales\"),\n",
    "        InputChoice(title=\"Marketing\", value=\"marketing\"),\n",
    "        InputChoice(title=\"Engineering\", value=\"engineering\"),\n",
    "        InputChoice(title=\"Human Resources\", value=\"hr\"),\n",
    "        InputChoice(title=\"Customer Support\", value=\"support\")\n",
    "    ]\n",
    "    \n",
    "    department_input = ElementFactory.create_choice_set(\n",
    "        id=\"department\",\n",
    "        choices=department_choices,\n",
    "        placeholder=\"Select your department\",\n",
    "        is_required=True,\n",
    "        is_multi_select=False\n",
    "    )\n",
    "    \n",
    "    # Multi-select checklist\n",
    "    interest_choices = [\n",
    "        {\"title\": \"Product Updates\", \"value\": \"product_updates\"},\n",
    "        {\"title\": \"Industry News\", \"value\": \"industry_news\"},\n",
    "        {\"title\": \"Webinars & Events\", \"value\": \"webinars\"},\n",
    "        {\"title\": \"Customer Stories\", \"value\": \"case_studies\"},\n",
    "        {\"title\": \"Technical Documentation\", \"value\": \"documentation\"}\n",
    "    ]\n",
    "    \n",
    "    interests_input = ElementFactory.create_choice_set(\n",
    "        id=\"interests\",\n",
    "        choices=interest_choices,\n",
    "        placeholder=\"Select topics you're interested in\",\n",
    "        is_required=False,\n",
    "        is_multi_select=True\n",
    "    )\n",
    "    \n",
    "    print(\"Choice inputs created successfully!\")\n",
    "    \n",
    "except Exception as e:\n",
    "    print(f\"Error creating choice inputs: {e}\")"
   ]
  },
  {
   "cell_type": "markdown",
   "metadata": {},
   "source": [
    "## Create Date Input\n",
    "\n",
    "Let's create a date input element."
   ]
  },
  {
   "cell_type": "code",
   "execution_count": null,
   "metadata": {},
   "outputs": [],
   "source": [
    "# Create date input\n",
    "try:\n",
    "    date_input = ElementFactory.create_date_input(\n",
    "        id=\"preferred_date\",\n",
    "        placeholder=\"Select your preferred date\",\n",
    "        is_required=False\n",
    "    )\n",
    "    \n",
    "    print(\"Date input created successfully!\")\n",
    "    \n",
    "except Exception as e:\n",
    "    print(f\"Error creating date input: {e}\")"
   ]
  },
  {
   "cell_type": "markdown",
   "metadata": {},
   "source": [
    "## Create Labels for Form Fields\n",
    "\n",
    "Now let's create labels for each form field."
   ]
  },
  {
   "cell_type": "code",
   "execution_count": null,
   "metadata": {},
   "outputs": [],
   "source": [
    "# Create label components for each input\n",
    "try:\n",
    "    name_label = ElementFactory.create_text(\"Full Name\", weight=\"bolder\")\n",
    "    email_label = ElementFactory.create_text(\"Email Address\", weight=\"bolder\")\n",
    "    department_label = ElementFactory.create_text(\"Department\", weight=\"bolder\")\n",
    "    interests_label = ElementFactory.create_text(\"Topics of Interest\", weight=\"bolder\")\n",
    "    date_label = ElementFactory.create_text(\"Preferred Contact Date\", weight=\"bolder\")\n",
    "    comments_label = ElementFactory.create_text(\"Additional Comments\", weight=\"bolder\")\n",
    "    \n",
    "    print(\"Labels created successfully!\")\n",
    "    \n",
    "except Exception as e:\n",
    "    print(f\"Error creating labels: {e}\")"
   ]
  },
  {
   "cell_type": "markdown",
   "metadata": {},
   "source": [
    "## Arrange Form Elements with Layout\n",
    "\n",
    "Let's arrange all the form elements into containers with proper spacing."
   ]
  },
  {
   "cell_type": "code",
   "execution_count": null,
   "metadata": {},
   "outputs": [],
   "source": [
    "# Create containers for each form field with its label\n",
    "try:\n",
    "    name_container = LayoutHelper.create_container(\n",
    "        items=[name_label, name_input],\n",
    "        spacing=\"medium\"\n",
    "    )\n",
    "    \n",
    "    email_container = LayoutHelper.create_container(\n",
    "        items=[email_label, email_input],\n",
    "        spacing=\"medium\"\n",
    "    )\n",
    "    \n",
    "    department_container = LayoutHelper.create_container(\n",
    "        items=[department_label, department_input],\n",
    "        spacing=\"medium\"\n",
    "    )\n",
    "    \n",
    "    interests_container = LayoutHelper.create_container(\n",
    "        items=[interests_label, interests_input],\n",
    "        spacing=\"medium\"\n",
    "    )\n",
    "    \n",
    "    date_container = LayoutHelper.create_container(\n",
    "        items=[date_label, date_input],\n",
    "        spacing=\"medium\"\n",
    "    )\n",
    "    \n",
    "    comments_container = LayoutHelper.create_container(\n",
    "        items=[comments_label, comments_input],\n",
    "        spacing=\"medium\"\n",
    "    )\n",
    "    \n",
    "    print(\"Form containers created successfully!\")\n",
    "    \n",
    "except Exception as e:\n",
    "    print(f\"Error creating form containers: {e}\")"
   ]
  },
  {
   "cell_type": "markdown",
   "metadata": {},
   "source": [
    "## Create Name and Email Row\n",
    "\n",
    "Let's put name and email fields side by side in a row."
   ]
  },
  {
   "cell_type": "code",
   "execution_count": null,
   "metadata": {},
   "outputs": [],
   "source": [
    "# Create a row with name and email fields\n",
    "try:\n",
    "    # Try different approaches to create columns\n",
    "    try:\n",
    "        contact_row = LayoutHelper.create_equal_columns(\n",
    "            [[name_container], [email_container]]\n",
    "        )\n",
    "        print(\"Created contact row with equal_columns\")\n",
    "    except Exception as e1:\n",
    "        print(f\"Error with equal_columns: {e1}\")\n",
    "        \n",
    "        # Alternative approach\n",
    "        contact_row = LayoutHelper.create_column_set([\n",
    "            ElementFactory.create_column(width=\"1\", items=[name_container]),\n",
    "            ElementFactory.create_column(width=\"1\", items=[email_container])\n",
    "        ])\n",
    "        print(\"Created contact row with column_set\")\n",
    "        \n",
    "except Exception as e:\n",
    "    print(f\"Error creating contact row: {e}\")"
   ]
  },
  {
   "cell_type": "markdown",
   "metadata": {},
   "source": [
    "## Create the Complete Form Card\n",
    "\n",
    "Now let's assemble all the components into a complete form card."
   ]
  },
  {
   "cell_type": "code",
   "execution_count": null,
   "metadata": {},
   "outputs": [],
   "source": [
    "# Create the complete form card\n",
    "try:\n",
    "    # Create a basic card with title and description\n",
    "    form_card = builder.create_basic_card(\n",
    "        title=\"Contact Information Form\",\n",
    "        message=\"Please fill out the form below to update your contact information and preferences.\"\n",
    "    )\n",
    "    \n",
    "    print(\"Basic form card created!\")\n",
    "    \n",
    "    # Add all form elements to the card\n",
    "    print(\"Adding form elements to card...\")\n",
    "    \n",
    "    # Create list of elements to add\n",
    "    form_elements = [\n",
    "        contact_row,  # Name and email row\n",
    "        department_container,\n",
    "        interests_container,\n",
    "        date_container,\n",
    "        comments_container\n",
    "    ]\n",
    "    \n",
    "    # Try different methods to add the elements\n",
    "    if hasattr(form_card, 'add_element'):\n",
    "        print(\"Using add_element method...\")\n",
    "        for element in form_elements:\n",
    "            form_card.add_element(element)\n",
    "    elif hasattr(form_card, 'add_item'):\n",
    "        print(\"Using add_item method...\")\n",
    "        for element in form_elements:\n",
    "            form_card.add_item(element)\n",
    "    elif hasattr(form_card, 'add'):\n",
    "        print(\"Using add method...\")\n",
    "        for element in form_elements:\n",
    "            form_card.add(element)\n",
    "    elif hasattr(form_card, 'body') and hasattr(form_card.body, 'append'):\n",
    "        print(\"Appending to body attribute...\")\n",
    "        for element in form_elements:\n",
    "            form_card.body.append(element)\n",
    "    else:\n",
    "        print(\"Could not find a way to add elements to the card.\")\n",
    "    \n",
    "    # Add Submit and Cancel buttons\n",
    "    try:\n",
    "        print(\"Adding action buttons...\")\n",
    "        actions = [\n",
    "            {\n",
    "                \"type\": \"Action.Submit\",\n",
    "                \"title\": \"Submit\",\n",
    "                \"data\": {\"action\": \"submit_form\"}\n",
    "            },\n",
    "            {\n",
    "                \"type\": \"Action.Submit\",\n",
    "                \"title\": \"Cancel\",\n",
    "                \"data\": {\"action\": \"cancel_form\"}\n",
    "            }\n",
    "        ]\n",
    "        \n",
    "        if hasattr(form_card, 'add_action'):\n",
    "            for action in actions:\n",
    "                form_card.add_action(action)\n",
    "        elif hasattr(form_card, 'actions') and hasattr(form_card.actions, 'append'):\n",
    "            for action in actions:\n",
    "                form_card.actions.append(action)\n",
    "        elif hasattr(form_card, 'to_dict'):\n",
    "            card_dict = form_card.to_dict()\n",
    "            if 'actions' not in card_dict:\n",
    "                card_dict['actions'] = []\n",
    "            for action in actions:\n",
    "                card_dict['actions'].append(action)\n",
    "    except Exception as e:\n",
    "        print(f\"Error adding actions: {e}\")\n",
    "    \n",
    "    # Display the final card\n",
    "    display_card(form_card, \"Contact Information Form\")\n",
    "    \n",
    "except Exception as e:\n",
    "    print(f\"Error creating form card: {e}\")"
   ]
  },
  {
   "cell_type": "markdown",
   "metadata": {},
   "source": [
    "## Form Validation and Submission Handling\n",
    "\n",
    "Note that this card only defines the form UI. In a real implementation, you would need server-side code to:\n",
    "\n",
    "1. Receive the form submission from the Adaptive Card host application\n",
    "2. Validate the submitted data\n",
    "3. Process the data (store in database, trigger workflows, etc.)\n",
    "4. Send a confirmation response\n",
    "\n",
    "The submission is handled by the `Action.Submit` button, which will send all form field values as a JSON object to the host application."
   ]
  }
 ],
 "metadata": {
  "kernelspec": {
   "display_name": "Python 3",
   "language": "python",
   "name": "python3"
  },
  "language_info": {
   "codemirror_mode": {
    "name": "ipython",
    "version": 3
   },
   "file_extension": ".py",
   "mimetype": "text/x-python",
   "name": "python",
   "nbconvert_exporter": "python",
   "pygments_lexer": "ipython3",
   "version": "3.8.10"
  }
 },
 "nbformat": 4,
 "nbformat_minor": 4
}