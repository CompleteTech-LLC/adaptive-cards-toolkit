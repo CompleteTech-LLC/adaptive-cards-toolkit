{
 "cells": [
  {
   "cell_type": "markdown",
   "metadata": {},
   "source": "# Adaptive Cards Toolkit: 03 - Data Visualization\n\nThis notebook demonstrates how to create cards with data visualizations like charts and tables. Please run 01_toolkit_common.ipynb first.",
   "outputs": []
  },
  {
   "cell_type": "markdown",
   "metadata": {},
   "source": "## Setup\n\nFirst, we need to import the common utilities defined in the toolkit_common notebook."
  },
  {
   "cell_type": "code",
   "metadata": {},
   "outputs": [],
   "source": "%run 01_toolkit_common.ipynb\n\n# Ensure we have all the necessary imports\nimport sys\nimport os\n\n# Add the parent directory to the path so we can import the toolkit\nif not os.path.abspath('..') in sys.path:\n    sys.path.insert(0, os.path.abspath('..'))\n\n# Import required modules directly\nfrom src.adaptive_cards_toolkit.core.element_factory import ElementFactory\nfrom src.adaptive_cards_toolkit.core.layout_helper import LayoutHelper\nfrom src.adaptive_cards_toolkit.core.data_connector import DataConnector"
  },
  {
   "cell_type": "markdown",
   "metadata": {},
   "source": "## Create Sample Data\n\nFirst, let's create some sample sales data for our visualization."
  },
  {
   "cell_type": "code",
   "execution_count": null,
   "metadata": {},
   "outputs": [],
   "source": "# Create sample data - sales performance by region\nregional_data = {\n    \"regions\": [\"North\", \"South\", \"East\", \"West\", \"Central\"],\n    \"sales\": [342000, 287000, 411000, 394000, 218000],\n    \"target\": [350000, 275000, 400000, 425000, 225000],\n    \"reps\": [12, 9, 15, 14, 8]\n}\n\n# Convert to pandas DataFrame\ndf = pd.DataFrame(regional_data)\n\n# Calculate whether targets were met and percentage of target\ndf[\"target_met\"] = df[\"sales\"] >= df[\"target\"]\ndf[\"percent_of_target\"] = (df[\"sales\"] / df[\"target\"] * 100).round(1)\ndf[\"sales_per_rep\"] = (df[\"sales\"] / df[\"reps\"]).round(0)\n\n# Display the dataframe\ndf"
  },
  {
   "cell_type": "markdown",
   "metadata": {},
   "source": "## Create a Visualization\n\nNow let's create a visualization of the sales data using seaborn and matplotlib."
  },
  {
   "cell_type": "code",
   "execution_count": null,
   "metadata": {},
   "outputs": [],
   "source": "# Create a visualization\nsns.set_style(\"whitegrid\")\nplt.figure(figsize=(10, 6))\nbar_plot = sns.barplot(\n    x=\"regions\", \n    y=\"sales\", \n    data=df,\n    palette=[\"green\" if met else \"red\" for met in df[\"target_met\"]]\n)\n\n# Add target markers\nfor i, target in enumerate(df[\"target\"]):\n    plt.plot([i-0.4, i+0.4], [target, target], color=\"black\", linestyle=\"--\")\n\nplt.title(\"Sales vs. Target by Region\")\nplt.ylabel(\"Sales ($)\")\nplt.tight_layout()\n\n# Display the plot\nplt.show()\n\n# Convert to base64 for embedding in card\nchart_img = fig_to_base64(plt.gcf())\nplt.close()"
  },
  {
   "cell_type": "markdown",
   "metadata": {},
   "source": "## Create the Data Card\n\nNow let's create a card to display this data and visualization."
  },
  {
   "cell_type": "code",
   "metadata": {},
   "outputs": [],
   "source": "# Create a card to display this data\ntry:\n    data_card = builder.create_basic_card(\n        title=\"Regional Sales Performance\",\n        message=\"Q2 2024 sales performance by region compared to targets.\"\n    )\n    \n    print(\"Created basic card!\")\n    print(\"Card type:\", type(data_card))\n    \n    # Try to add our elements\n    print(\"Preparing elements to add...\")\n    \n    # Prepare all elements to add\n    elements = []\n    \n    # Add chart image\n    elements.append(ElementFactory.create_image(\n        url=chart_img,\n        alt_text=\"Bar chart showing sales vs target by region\"\n    ))\n    \n    # Generate table element manually since dataframe_to_table is not available\n    try:\n        print(\"Creating table from DataFrame manually...\")\n        # Convert DataFrame to a table using the available method in DataConnector\n        headers = [\"Region\", \"Sales ($)\", \"Target ($)\", \"% of Target\", \"Sales per Rep\"]\n        rows = []\n        \n        for _, row in df.iterrows():\n            rows.append([\n                row[\"regions\"],\n                f\"${row['sales']:,.0f}\",\n                f\"${row['target']:,.0f}\",\n                f\"{row['percent_of_target']}%\",\n                f\"${row['sales_per_rep']:,.0f}\"\n            ])\n        \n        table_elements = data_connector.create_table(\n            headers=headers,\n            rows=rows,\n            has_header_row=True,\n            alternate_row_style=True\n        )\n        \n        # Add each table element to our elements list\n        elements.extend(table_elements)\n    except Exception as e:\n        print(f\"Error creating table: {e}\")\n    \n    # Add heading for insights\n    elements.append(ElementFactory.create_heading(\"Key Takeaways\", level=2))\n    \n    # Generate insights\n    best_region = df.loc[df[\"sales\"].idxmax(), \"regions\"]\n    worst_region = df.loc[df[\"sales\"].idxmin(), \"regions\"]\n    best_performer = df.loc[df[\"sales_per_rep\"].idxmax(), \"regions\"]\n    regions_over_target = df[df[\"target_met\"] == True].shape[0]\n    total_regions = df.shape[0]\n\n    insights = [\n        f\"**{best_region}** had the highest total sales at ${df['sales'].max():,}.\",\n        f\"**{worst_region}** had the lowest total sales at ${df['sales'].min():,}.\",\n        f\"**{best_performer}** had the highest sales per representative at ${df['sales_per_rep'].max():,.0f}.\",\n        f\"{regions_over_target} out of {total_regions} regions met or exceeded their sales targets.\"\n    ]\n\n    # Add each insight without using wrap parameter (it's already included in create_text implementation)\n    for insight in insights:\n        elements.append(ElementFactory.create_text(f\"• {insight}\"))\n    \n    # Now try different approaches to add the elements\n    print(f\"Adding {len(elements)} elements to card...\")\n    \n    # Try different methods to add elements\n    if hasattr(data_card, 'add_element'):\n        print(\"Using add_element method...\")\n        for element in elements:\n            data_card.add_element(element)\n    elif hasattr(data_card, 'add_item'):\n        print(\"Using add_item method...\")\n        for element in elements:\n            data_card.add_item(element)\n    elif hasattr(data_card, 'add'):\n        print(\"Using add method...\")\n        for element in elements:\n            data_card.add(element)\n    elif hasattr(data_card, 'body') and hasattr(data_card.body, 'append'):\n        print(\"Appending to body attribute...\")\n        for element in elements:\n            data_card.body.append(element)\n    elif hasattr(data_card, 'to_dict'):\n        print(\"Modifying dictionary representation...\")\n        card_dict = data_card.to_dict()\n        if 'body' in card_dict and isinstance(card_dict['body'], list):\n            for element in elements:\n                element_dict = element.to_dict() if hasattr(element, 'to_dict') else element\n                card_dict['body'].append(element_dict)\n    else:\n        print(\"Could not find a way to add elements to the card.\")\n    \n    # Try to add actions\n    try:\n        print(\"Adding actions...\")\n        actions = [\n            {\n                \"type\": \"Action.Submit\",\n                \"title\": \"Download Full Report\",\n                \"data\": {\"action\": \"download_report\"}\n            },\n            {\n                \"type\": \"Action.Submit\",\n                \"title\": \"Schedule Review Meeting\",\n                \"data\": {\"action\": \"schedule_meeting\"}\n            }\n        ]\n        \n        if hasattr(data_card, 'add_action'):\n            for action in actions:\n                data_card.add_action(action)\n        elif hasattr(data_card, 'actions') and hasattr(data_card.actions, 'append'):\n            for action in actions:\n                data_card.actions.append(action)\n        elif hasattr(data_card, 'to_dict'):\n            card_dict = data_card.to_dict()\n            if 'actions' not in card_dict:\n                card_dict['actions'] = []\n            for action in actions:\n                card_dict['actions'].append(action)\n    except Exception as e:\n        print(f\"Error adding actions: {e}\")\n    \n    # Display the final card\n    display_card(data_card, \"Data Visualization Card\")\n    \nexcept Exception as e:\n    print(f\"Error creating data card: {e}\")"
  }
 ],
 "metadata": {
  "kernelspec": {
   "display_name": "Python 3",
   "language": "python",
   "name": "python3"
  },
  "language_info": {
   "codemirror_mode": {
    "name": "ipython",
    "version": 3
   },
   "file_extension": ".py",
   "mimetype": "text/x-python",
   "name": "python",
   "nbconvert_exporter": "python",
   "pygments_lexer": "ipython3",
   "version": "3.9.0"
  }
 },
 "nbformat": 4,
 "nbformat_minor": 4
}