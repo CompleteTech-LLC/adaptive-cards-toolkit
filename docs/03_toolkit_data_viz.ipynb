{
 "cells": [
  {
   "cell_type": "markdown",
   "metadata": {},
   "source": "# Adaptive Cards Toolkit: 03 - Data Visualization\n\nThis notebook demonstrates how to create cards with data visualizations like charts and tables. Please run 01_toolkit_common.ipynb first."
  },
  {
   "cell_type": "markdown",
   "metadata": {},
   "source": "## Setup\n\nFirst, we need to import the common utilities defined in the toolkit_common notebook as well as all visualization dependencies."
  },
  {
   "cell_type": "code",
   "execution_count": null,
   "metadata": {},
   "outputs": [],
   "source": "# Run common utilities notebook (optional, can be skipped if already run in session)\n%run 01_toolkit_common.ipynb\n\n# Ensure we have all the necessary imports\nimport json\nimport sys\nimport os\nimport pandas as pd\nimport matplotlib.pyplot as plt\nimport seaborn as sns\n\n# Add the parent directory to the path so we can import the toolkit\nif not os.path.abspath('..') in sys.path:\n    sys.path.insert(0, os.path.abspath('..'))\n\n# Import required modules directly\nfrom src.adaptive_cards_toolkit.core.element_factory import ElementFactory\nfrom src.adaptive_cards_toolkit.core.layout_helper import LayoutHelper\nfrom src.adaptive_cards_toolkit.core.data_connector import DataConnector\n\n# Define fig_to_base64 function for converting plots to base64 for embedding in cards\nfrom io import BytesIO\nimport base64\n\ndef fig_to_base64(fig):\n    \"\"\"Convert a matplotlib figure to a base64 encoded string.\n    \n    Args:\n        fig: Matplotlib figure object\n        \n    Returns:\n        String with data URI containing base64 encoded image\n    \"\"\"\n    buf = BytesIO()\n    fig.savefig(buf, format='png', bbox_inches='tight', dpi=100)\n    buf.seek(0)\n    img_str = base64.b64encode(buf.read()).decode('utf-8')\n    return f\"data:image/png;base64,{img_str}\"\n\n# Utility to display card\ndef display_card(card, title=\"Adaptive Card\"):\n    \"\"\"Display an adaptive card object\n    \n    Args:\n        card: Card object with to_json method\n        title: Title to display with the card\n    \"\"\"\n    print(f\"\\n== {title} ==\\n\")\n    try:\n        # Get JSON from the card\n        if hasattr(card, 'to_json'):\n            card_json = card.to_json()\n        elif hasattr(card, 'card_data'):\n            card_json = json.dumps(card.card_data, indent=2)\n        else:\n            card_json = json.dumps(card, indent=2)\n            \n        # Print the JSON\n        print(card_json)\n    except Exception as e:\n        print(f\"Error displaying card: {e}\")"
  },
  {
   "cell_type": "markdown",
   "metadata": {},
   "source": "## Create Sample Data\n\nFirst, let's create some sample sales data for our visualization."
  },
  {
   "cell_type": "code",
   "execution_count": null,
   "metadata": {},
   "outputs": [],
   "source": "# Create sample data - sales performance by region\nregional_data = {\n    \"regions\": [\"North\", \"South\", \"East\", \"West\", \"Central\"],\n    \"sales\": [342000, 287000, 411000, 394000, 218000],\n    \"target\": [350000, 275000, 400000, 425000, 225000],\n    \"reps\": [12, 9, 15, 14, 8]\n}\n\n# Convert to pandas DataFrame\ndf = pd.DataFrame(regional_data)\n\n# Calculate whether targets were met and percentage of target\ndf[\"target_met\"] = df[\"sales\"] >= df[\"target\"]\ndf[\"percent_of_target\"] = (df[\"sales\"] / df[\"target\"] * 100).round(1)\ndf[\"sales_per_rep\"] = (df[\"sales\"] / df[\"reps\"]).round(0)\n\n# Display the dataframe\ndf"
  },
  {
   "cell_type": "markdown",
   "metadata": {},
   "source": "## Create Primary Visualization\n\nLet's create a bar chart showing sales performance by region compared to targets."
  },
  {
   "cell_type": "code",
   "execution_count": null,
   "metadata": {},
   "outputs": [],
   "source": "# Create primary visualization showing sales vs targets\nsns.set_style(\"whitegrid\")\nplt.figure(figsize=(10, 6))\n\n# Create bar plot comparing sales by region\npalette = [\"green\" if met else \"red\" for met in df[\"target_met\"]]\nbar_plot = sns.barplot(\n    x=\"regions\", \n    y=\"sales\", \n    data=df,\n    palette=palette,\n    hue=\"regions\",\n    legend=False\n)\n\n# Add target markers\nfor i, target in enumerate(df[\"target\"]):\n    plt.plot([i-0.4, i+0.4], [target, target], color=\"black\", linestyle=\"--\")\n\nplt.title(\"Sales vs. Target by Region\")\nplt.ylabel(\"Sales ($)\")\nplt.tight_layout()\n\n# Display the plot\nplt.show()\n\n# Convert to base64 for embedding in card\nchart_img = fig_to_base64(plt.gcf())\nplt.close()"
  },
  {
   "cell_type": "markdown",
   "metadata": {},
   "source": "## Create Secondary Visualization\n\nNow let's create a second visualization showing sales per representative."
  },
  {
   "cell_type": "code",
   "execution_count": null,
   "metadata": {},
   "outputs": [],
   "source": "# Create a secondary visualization for sales per rep\nsns.set_style(\"whitegrid\")\nplt.figure(figsize=(10, 6))\n\n# Create horizontal bar chart for sales per rep\nbar_plot = sns.barplot(\n    x=\"sales_per_rep\",\n    y=\"regions\",\n    data=df,\n    palette=\"viridis\",\n    orient=\"h\"\n)\n\n# Add average line\navg_sales_per_rep = df[\"sales_per_rep\"].mean()\nplt.axvline(x=avg_sales_per_rep, color=\"red\", linestyle=\"--\")\nplt.text(avg_sales_per_rep+1000, 0.5, f\"Avg: ${avg_sales_per_rep:,.0f}\", color=\"red\")\n\nplt.title(\"Sales per Representative by Region\")\nplt.xlabel(\"Sales per Rep ($)\")\nplt.tight_layout()\n\n# Display the plot\nplt.show()\n\n# Convert to base64 for embedding in card\nsecondary_chart_img = fig_to_base64(plt.gcf())\nplt.close()"
  },
  {
   "cell_type": "markdown",
   "metadata": {},
   "source": "## Create the Data Visualization Card\n\nLet's create a card with both visualizations and tabular data following the project's JSON-based card creation pattern."
  },
  {
   "cell_type": "code",
   "execution_count": null,
   "metadata": {},
   "outputs": [],
   "source": "# Create card with JSON construction pattern from style guide\ncard_data = {\n    \"type\": \"AdaptiveCard\",\n    \"version\": \"1.5\",\n    \"body\": [\n        # Title and description\n        {\"type\": \"TextBlock\", \"text\": \"Regional Sales Performance\", \"size\": \"large\", \"weight\": \"bolder\"},\n        {\"type\": \"TextBlock\", \"text\": \"Q2 2024 sales performance by region compared to targets.\", \"wrap\": True},\n        \n        # Primary chart\n        {\"type\": \"TextBlock\", \"text\": \"Sales Performance by Region\", \"size\": \"medium\", \"weight\": \"bolder\"},\n        {\"type\": \"Image\", \"url\": chart_img, \"altText\": \"Bar chart showing sales vs target by region\"},\n        \n        # Secondary chart\n        {\"type\": \"TextBlock\", \"text\": \"Sales per Representative\", \"size\": \"medium\", \"weight\": \"bolder\"},\n        {\"type\": \"Image\", \"url\": secondary_chart_img, \"altText\": \"Bar chart showing sales per representative by region\"}\n    ]\n}"
  },
  {
   "cell_type": "code",
   "execution_count": null,
   "metadata": {},
   "outputs": [],
   "source": "# Add table header\ncard_data[\"body\"].append({\"type\": \"TextBlock\", \"text\": \"Detailed Performance Data\", \"size\": \"medium\", \"weight\": \"bolder\"})\ncard_data[\"body\"].append({\n    \"type\": \"ColumnSet\", \n    \"columns\": [\n        {\"type\": \"Column\", \"width\": \"stretch\", \"items\": [\n            {\"type\": \"TextBlock\", \"text\": \"Region\", \"weight\": \"bolder\"}\n        ]},\n        {\"type\": \"Column\", \"width\": \"stretch\", \"items\": [\n            {\"type\": \"TextBlock\", \"text\": \"Sales ($)\", \"weight\": \"bolder\"}\n        ]},\n        {\"type\": \"Column\", \"width\": \"stretch\", \"items\": [\n            {\"type\": \"TextBlock\", \"text\": \"Target ($)\", \"weight\": \"bolder\"}\n        ]},\n        {\"type\": \"Column\", \"width\": \"stretch\", \"items\": [\n            {\"type\": \"TextBlock\", \"text\": \"% of Target\", \"weight\": \"bolder\"}\n        ]},\n        {\"type\": \"Column\", \"width\": \"stretch\", \"items\": [\n            {\"type\": \"TextBlock\", \"text\": \"Sales per Rep\", \"weight\": \"bolder\"}\n        ]}\n    ]\n})"
  },
  {
   "cell_type": "code",
   "execution_count": null,
   "metadata": {},
   "outputs": [],
   "source": "# Add table rows\nfor i, row in df.iterrows():\n    # Use different background for alternating rows\n    bg_color = \"default\" if i % 2 == 0 else \"accent\"\n    column_set = {\n        \"type\": \"ColumnSet\", \n        \"style\": bg_color,\n        \"columns\": [\n            {\"type\": \"Column\", \"width\": \"stretch\", \"items\": [\n                {\"type\": \"TextBlock\", \"text\": row[\"regions\"]}\n            ]},\n            {\"type\": \"Column\", \"width\": \"stretch\", \"items\": [\n                {\"type\": \"TextBlock\", \"text\": f\"${row['sales']:,.0f}\"}\n            ]},\n            {\"type\": \"Column\", \"width\": \"stretch\", \"items\": [\n                {\"type\": \"TextBlock\", \"text\": f\"${row['target']:,.0f}\"}\n            ]},\n            {\"type\": \"Column\", \"width\": \"stretch\", \"items\": [\n                {\"type\": \"TextBlock\", \n                 \"text\": f\"{row['percent_of_target']}%\", \n                 \"color\": \"good\" if row[\"target_met\"] else \"warning\"}\n            ]},\n            {\"type\": \"Column\", \"width\": \"stretch\", \"items\": [\n                {\"type\": \"TextBlock\", \"text\": f\"${row['sales_per_rep']:,.0f}\"}\n            ]}\n        ]\n    }\n    card_data[\"body\"].append(column_set)"
  },
  {
   "cell_type": "code",
   "execution_count": null,
   "metadata": {},
   "outputs": [],
   "source": "# Add insights section\n# Generate insights\nbest_region = df.loc[df[\"sales\"].idxmax(), \"regions\"]\nworst_region = df.loc[df[\"sales\"].idxmin(), \"regions\"]\nbest_performer = df.loc[df[\"sales_per_rep\"].idxmax(), \"regions\"]\nregions_over_target = df[df[\"target_met\"] == True].shape[0]\ntotal_regions = df.shape[0]\n\ncard_data[\"body\"].append({\"type\": \"TextBlock\", \"text\": \"Key Takeaways\", \"size\": \"medium\", \"weight\": \"bolder\"})\n\ninsights = [\n    f\"• **{best_region}** had the highest total sales at ${df['sales'].max():,}.\",\n    f\"• **{worst_region}** had the lowest total sales at ${df['sales'].min():,}.\",\n    f\"• **{best_performer}** had the highest sales per representative at ${df['sales_per_rep'].max():,.0f}.\",\n    f\"• {regions_over_target} out of {total_regions} regions met or exceeded their sales targets.\"\n]\n\nfor insight in insights:\n    card_data[\"body\"].append({\"type\": \"TextBlock\", \"text\": insight, \"wrap\": True})"
  },
  {
   "cell_type": "code",
   "execution_count": null,
   "metadata": {},
   "outputs": [],
   "source": "# Add action buttons\ncard_data[\"actions\"] = [\n    {\n        \"type\": \"Action.Submit\",\n        \"title\": \"Download Full Report\",\n        \"data\": {\"action\": \"download_report\"}\n    },\n    {\n        \"type\": \"Action.Submit\",\n        \"title\": \"Schedule Review Meeting\",\n        \"data\": {\"action\": \"schedule_meeting\"}\n    }\n]\n\n# Create a card object with to_json method as per style guide\nclass CardObject:\n    def __init__(self, card_data):\n        self.card_data = card_data\n        \n    def to_json(self):\n        return json.dumps(self.card_data)\n\n# Create the card object\ndata_card = CardObject(card_data)\n\n# Display the card\ndisplay_card(data_card, \"Data Visualization Card\")"
  }
 ],
 "metadata": {
  "kernelspec": {
   "display_name": "Python 3",
   "language": "python",
   "name": "python3"
  },
  "language_info": {
   "codemirror_mode": {
    "name": "ipython",
    "version": 3
   },
   "file_extension": ".py",
   "mimetype": "text/x-python",
   "name": "python",
   "nbconvert_exporter": "python",
   "pygments_lexer": "ipython3",
   "version": "3.9.0"
  }
 },
 "nbformat": 4,
 "nbformat_minor": 4
}