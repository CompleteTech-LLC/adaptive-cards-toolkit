{
 "cells": [
  {
   "cell_type": "markdown",
   "metadata": {},
   "source": "# Adaptive Cards Toolkit: 01 - Common Utilities\n\nThis notebook contains common imports and utility functions used by the other example notebooks. It should be run first before executing any other notebook in this series.",
   "outputs": []
  },
  {
   "cell_type": "code",
   "metadata": {},
   "outputs": [],
   "source": "# Install required packages (adjust this to install from the root of your project)\n!pip3 install -e .. # Install the package from project root\n!pip3 install matplotlib pandas seaborn"
  },
  {
   "cell_type": "code",
   "execution_count": null,
   "metadata": {},
   "outputs": [],
   "source": "import json\nimport sys\nimport os\nimport pandas as pd\nimport matplotlib.pyplot as plt\nimport seaborn as sns\nimport base64\nfrom io import BytesIO\n\n# Add the parent directory to the path so we can import the toolkit\nsys.path.insert(0, os.path.abspath('..'))\n\n# Import toolkit components\nfrom src.adaptive_cards_toolkit.core.card_builder import AgentCardBuilder\nfrom src.adaptive_cards_toolkit.core.element_factory import ElementFactory\nfrom src.adaptive_cards_toolkit.core.layout_helper import LayoutHelper\nfrom src.adaptive_cards_toolkit.core.data_connector import DataConnector\nfrom src.adaptive_cards_toolkit.templates.templates import TemplateFactory\nfrom src.adaptive_cards_toolkit.core.validation_utility import ValidationUtility\n\n# Initialize common components\nbuilder = AgentCardBuilder()\nvalidator = ValidationUtility()\ndata_connector = DataConnector()"
  },
  {
   "cell_type": "code",
   "execution_count": null,
   "metadata": {},
   "outputs": [],
   "source": "# Helper function to display card JSON with validation info\ndef display_card(card, title=None):\n    \"\"\"Display a card as JSON with validation information.\n    \n    Args:\n        card: The card object to display\n        title: Optional title to display with the card\n    \"\"\"\n    if title:\n        print(f\"\\n## {title}\")\n    card_json = json.loads(card.to_json())\n    print(json.dumps(card_json, indent=2))\n    validation = validator.validate(card)\n    print(f\"\\nCard size: {validation['size']:.2f}KB | Valid: {validation['valid']}\")"
  },
  {
   "cell_type": "code",
   "execution_count": null,
   "metadata": {},
   "outputs": [],
   "source": "# Helper function to convert matplotlib figures to base64 for embedding in cards\ndef fig_to_base64(fig):\n    \"\"\"Convert a matplotlib figure to a base64 encoded string.\n    \n    Args:\n        fig: Matplotlib figure object\n        \n    Returns:\n        String with data URI containing base64 encoded image\n    \"\"\"\n    buf = BytesIO()\n    fig.savefig(buf, format='png', bbox_inches='tight', dpi=100)\n    buf.seek(0)\n    img_str = base64.b64encode(buf.read()).decode('utf-8')\n    return f\"data:image/png;base64,{img_str}\""
  },
  {
   "cell_type": "code",
   "execution_count": null,
   "metadata": {},
   "outputs": [],
   "source": "# Print available methods for key objects to help with debugging\ndef show_available_methods():\n    \"\"\"Show available methods for key toolkit objects.\"\"\"\n    print(\"Builder type:\", type(builder))\n    print(\"\\nBuilder methods:\")\n    print([m for m in dir(builder) if not m.startswith('_')])\n    \n    print(\"\\nElementFactory methods:\")\n    print([m for m in dir(ElementFactory) if not m.startswith('_')])\n    \n    print(\"\\nLayoutHelper methods:\")\n    print([m for m in dir(LayoutHelper) if not m.startswith('_')])\n    \n    # Create a test card to examine\n    test_card = builder.create_basic_card(title=\"Test\", message=\"Testing card structure\")\n    print(\"\\nCreated card type:\", type(test_card))\n    print(\"Card methods:\")\n    print([m for m in dir(test_card) if not m.startswith('_')])\n\n    if hasattr(test_card, 'to_dict'):\n        card_dict = test_card.to_dict()\n        print(\"\\nCard structure:\")\n        print(json.dumps(card_dict, indent=2))\n\n# Run the method to show all available functions\nshow_available_methods()"
  }
 ],
 "metadata": {
  "kernelspec": {
   "display_name": "Python 3",
   "language": "python",
   "name": "python3"
  },
  "language_info": {
   "codemirror_mode": {
    "name": "ipython",
    "version": 3
   },
   "file_extension": ".py",
   "mimetype": "text/x-python",
   "name": "python",
   "nbconvert_exporter": "python",
   "pygments_lexer": "ipython3",
   "version": "3.9.0"
  }
 },
 "nbformat": 4,
 "nbformat_minor": 4
}